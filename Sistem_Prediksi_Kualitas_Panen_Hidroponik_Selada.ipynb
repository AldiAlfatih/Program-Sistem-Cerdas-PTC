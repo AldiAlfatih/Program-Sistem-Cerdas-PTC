{
  "cells": [
    {
      "cell_type": "markdown",
      "metadata": {
        "id": "view-in-github",
        "colab_type": "text"
      },
      "source": [
        "<a href=\"https://colab.research.google.com/github/AldiAlfatih/Program-Sistem-Cerdas-PTC/blob/main/Sistem_Prediksi_Kualitas_Panen_Hidroponik_Selada.ipynb\" target=\"_parent\"><img src=\"https://colab.research.google.com/assets/colab-badge.svg\" alt=\"Open In Colab\"/></a>"
      ]
    },
    {
      "cell_type": "code",
      "execution_count": null,
      "metadata": {
        "colab": {
          "base_uri": "https://localhost:8080/"
        },
        "id": "jAaTBzQ4l7Pq",
        "outputId": "78f282cb-f3cc-4eda-80b7-41304137261b"
      },
      "outputs": [
        {
          "output_type": "stream",
          "name": "stdout",
          "text": [
            "Requirement already satisfied: scikit-learn in /usr/local/lib/python3.10/dist-packages (1.6.0)\n",
            "Requirement already satisfied: numpy>=1.19.5 in /usr/local/lib/python3.10/dist-packages (from scikit-learn) (1.26.4)\n",
            "Requirement already satisfied: scipy>=1.6.0 in /usr/local/lib/python3.10/dist-packages (from scikit-learn) (1.13.1)\n",
            "Requirement already satisfied: joblib>=1.2.0 in /usr/local/lib/python3.10/dist-packages (from scikit-learn) (1.4.2)\n",
            "Requirement already satisfied: threadpoolctl>=3.1.0 in /usr/local/lib/python3.10/dist-packages (from scikit-learn) (3.5.0)\n",
            "Requirement already satisfied: tensorflow in /usr/local/lib/python3.10/dist-packages (2.17.1)\n",
            "Requirement already satisfied: absl-py>=1.0.0 in /usr/local/lib/python3.10/dist-packages (from tensorflow) (1.4.0)\n",
            "Requirement already satisfied: astunparse>=1.6.0 in /usr/local/lib/python3.10/dist-packages (from tensorflow) (1.6.3)\n",
            "Requirement already satisfied: flatbuffers>=24.3.25 in /usr/local/lib/python3.10/dist-packages (from tensorflow) (24.3.25)\n",
            "Requirement already satisfied: gast!=0.5.0,!=0.5.1,!=0.5.2,>=0.2.1 in /usr/local/lib/python3.10/dist-packages (from tensorflow) (0.6.0)\n",
            "Requirement already satisfied: google-pasta>=0.1.1 in /usr/local/lib/python3.10/dist-packages (from tensorflow) (0.2.0)\n",
            "Requirement already satisfied: h5py>=3.10.0 in /usr/local/lib/python3.10/dist-packages (from tensorflow) (3.12.1)\n",
            "Requirement already satisfied: libclang>=13.0.0 in /usr/local/lib/python3.10/dist-packages (from tensorflow) (18.1.1)\n",
            "Requirement already satisfied: ml-dtypes<0.5.0,>=0.3.1 in /usr/local/lib/python3.10/dist-packages (from tensorflow) (0.4.1)\n",
            "Requirement already satisfied: opt-einsum>=2.3.2 in /usr/local/lib/python3.10/dist-packages (from tensorflow) (3.4.0)\n",
            "Requirement already satisfied: packaging in /usr/local/lib/python3.10/dist-packages (from tensorflow) (24.2)\n",
            "Requirement already satisfied: protobuf!=4.21.0,!=4.21.1,!=4.21.2,!=4.21.3,!=4.21.4,!=4.21.5,<5.0.0dev,>=3.20.3 in /usr/local/lib/python3.10/dist-packages (from tensorflow) (4.25.5)\n",
            "Requirement already satisfied: requests<3,>=2.21.0 in /usr/local/lib/python3.10/dist-packages (from tensorflow) (2.32.3)\n",
            "Requirement already satisfied: setuptools in /usr/local/lib/python3.10/dist-packages (from tensorflow) (75.1.0)\n",
            "Requirement already satisfied: six>=1.12.0 in /usr/local/lib/python3.10/dist-packages (from tensorflow) (1.17.0)\n",
            "Requirement already satisfied: termcolor>=1.1.0 in /usr/local/lib/python3.10/dist-packages (from tensorflow) (2.5.0)\n",
            "Requirement already satisfied: typing-extensions>=3.6.6 in /usr/local/lib/python3.10/dist-packages (from tensorflow) (4.12.2)\n",
            "Requirement already satisfied: wrapt>=1.11.0 in /usr/local/lib/python3.10/dist-packages (from tensorflow) (1.17.0)\n",
            "Requirement already satisfied: grpcio<2.0,>=1.24.3 in /usr/local/lib/python3.10/dist-packages (from tensorflow) (1.68.1)\n",
            "Requirement already satisfied: tensorboard<2.18,>=2.17 in /usr/local/lib/python3.10/dist-packages (from tensorflow) (2.17.1)\n",
            "Requirement already satisfied: keras>=3.2.0 in /usr/local/lib/python3.10/dist-packages (from tensorflow) (3.5.0)\n",
            "Requirement already satisfied: tensorflow-io-gcs-filesystem>=0.23.1 in /usr/local/lib/python3.10/dist-packages (from tensorflow) (0.37.1)\n",
            "Requirement already satisfied: numpy<2.0.0,>=1.23.5 in /usr/local/lib/python3.10/dist-packages (from tensorflow) (1.26.4)\n",
            "Requirement already satisfied: wheel<1.0,>=0.23.0 in /usr/local/lib/python3.10/dist-packages (from astunparse>=1.6.0->tensorflow) (0.45.1)\n",
            "Requirement already satisfied: rich in /usr/local/lib/python3.10/dist-packages (from keras>=3.2.0->tensorflow) (13.9.4)\n",
            "Requirement already satisfied: namex in /usr/local/lib/python3.10/dist-packages (from keras>=3.2.0->tensorflow) (0.0.8)\n",
            "Requirement already satisfied: optree in /usr/local/lib/python3.10/dist-packages (from keras>=3.2.0->tensorflow) (0.13.1)\n",
            "Requirement already satisfied: charset-normalizer<4,>=2 in /usr/local/lib/python3.10/dist-packages (from requests<3,>=2.21.0->tensorflow) (3.4.0)\n",
            "Requirement already satisfied: idna<4,>=2.5 in /usr/local/lib/python3.10/dist-packages (from requests<3,>=2.21.0->tensorflow) (3.10)\n",
            "Requirement already satisfied: urllib3<3,>=1.21.1 in /usr/local/lib/python3.10/dist-packages (from requests<3,>=2.21.0->tensorflow) (2.2.3)\n",
            "Requirement already satisfied: certifi>=2017.4.17 in /usr/local/lib/python3.10/dist-packages (from requests<3,>=2.21.0->tensorflow) (2024.12.14)\n",
            "Requirement already satisfied: markdown>=2.6.8 in /usr/local/lib/python3.10/dist-packages (from tensorboard<2.18,>=2.17->tensorflow) (3.7)\n",
            "Requirement already satisfied: tensorboard-data-server<0.8.0,>=0.7.0 in /usr/local/lib/python3.10/dist-packages (from tensorboard<2.18,>=2.17->tensorflow) (0.7.2)\n",
            "Requirement already satisfied: werkzeug>=1.0.1 in /usr/local/lib/python3.10/dist-packages (from tensorboard<2.18,>=2.17->tensorflow) (3.1.3)\n",
            "Requirement already satisfied: MarkupSafe>=2.1.1 in /usr/local/lib/python3.10/dist-packages (from werkzeug>=1.0.1->tensorboard<2.18,>=2.17->tensorflow) (3.0.2)\n",
            "Requirement already satisfied: markdown-it-py>=2.2.0 in /usr/local/lib/python3.10/dist-packages (from rich->keras>=3.2.0->tensorflow) (3.0.0)\n",
            "Requirement already satisfied: pygments<3.0.0,>=2.13.0 in /usr/local/lib/python3.10/dist-packages (from rich->keras>=3.2.0->tensorflow) (2.18.0)\n",
            "Requirement already satisfied: mdurl~=0.1 in /usr/local/lib/python3.10/dist-packages (from markdown-it-py>=2.2.0->rich->keras>=3.2.0->tensorflow) (0.1.2)\n",
            "Name: tensorflow\n",
            "Version: 2.17.1\n",
            "Summary: TensorFlow is an open source machine learning framework for everyone.\n",
            "Home-page: https://www.tensorflow.org/\n",
            "Author: Google Inc.\n",
            "Author-email: packages@tensorflow.org\n",
            "License: Apache 2.0\n",
            "Location: /usr/local/lib/python3.10/dist-packages\n",
            "Requires: absl-py, astunparse, flatbuffers, gast, google-pasta, grpcio, h5py, keras, libclang, ml-dtypes, numpy, opt-einsum, packaging, protobuf, requests, setuptools, six, tensorboard, tensorflow-io-gcs-filesystem, termcolor, typing-extensions, wrapt\n",
            "Required-by: dopamine_rl, tf_keras\n",
            "Collecting scikit-learn==1.4.2\n",
            "  Downloading scikit_learn-1.4.2-cp310-cp310-manylinux_2_17_x86_64.manylinux2014_x86_64.whl.metadata (11 kB)\n",
            "Requirement already satisfied: numpy>=1.19.5 in /usr/local/lib/python3.10/dist-packages (from scikit-learn==1.4.2) (1.26.4)\n",
            "Requirement already satisfied: scipy>=1.6.0 in /usr/local/lib/python3.10/dist-packages (from scikit-learn==1.4.2) (1.13.1)\n",
            "Requirement already satisfied: joblib>=1.2.0 in /usr/local/lib/python3.10/dist-packages (from scikit-learn==1.4.2) (1.4.2)\n",
            "Requirement already satisfied: threadpoolctl>=2.0.0 in /usr/local/lib/python3.10/dist-packages (from scikit-learn==1.4.2) (3.5.0)\n",
            "Downloading scikit_learn-1.4.2-cp310-cp310-manylinux_2_17_x86_64.manylinux2014_x86_64.whl (12.1 MB)\n",
            "\u001b[2K   \u001b[90m━━━━━━━━━━━━━━━━━━━━━━━━━━━━━━━━━━━━━━━━\u001b[0m \u001b[32m12.1/12.1 MB\u001b[0m \u001b[31m44.2 MB/s\u001b[0m eta \u001b[36m0:00:00\u001b[0m\n",
            "\u001b[?25h"
          ]
        }
      ],
      "source": [
        "!pip install scikit-learn\n",
        "!pip install tensorflow\n",
        "!pip show tensorflow\n",
        "# !pip uninstall scikit-learn\n",
        "!pip install scikit-learn==1.4.2\n",
        "!pip install scikeras"
      ]
    },
    {
      "cell_type": "code",
      "execution_count": null,
      "metadata": {
        "id": "pgahJ1IQrPkD"
      },
      "outputs": [],
      "source": [
        "import pandas as pd\n",
        "import tensorflow as tf\n",
        "import sklearn\n",
        "import scikeras\n",
        "import numpy as np\n",
        "import matplotlib.pyplot as plt\n",
        "import seaborn as sns\n",
        "from sklearn.model_selection import train_test_split\n",
        "from sklearn.preprocessing import MinMaxScaler\n",
        "from sklearn.cluster import KMeans\n",
        "from sklearn.metrics import classification_report\n",
        "from tensorflow.keras.models import Sequential\n",
        "from tensorflow.keras.layers import Input, LSTM, Dense\n",
        "from sklearn.model_selection import RandomizedSearchCV\n",
        "from scikeras.wrappers import KerasClassifier\n",
        "from scipy.stats import randint\n",
        "from sklearn.metrics import confusion_matrix"
      ]
    },
    {
      "cell_type": "code",
      "execution_count": null,
      "metadata": {
        "id": "mZ-wz7B6rSfR"
      },
      "outputs": [],
      "source": [
        "df = pd.read_csv(\"https://raw.githubusercontent.com/Vinzzztty/playground-data-analyst/main/Machine%20Learning%20Terapan/2.%20Sentiment%20Analysis/dataset/dataset_selada.csv\")"
      ]
    },
    {
      "cell_type": "code",
      "execution_count": null,
      "metadata": {
        "id": "JeJvQO1gOvW5"
      },
      "outputs": [],
      "source": [
        "df.head()"
      ]
    },
    {
      "cell_type": "code",
      "execution_count": null,
      "metadata": {
        "id": "w2TDvZEqreW6"
      },
      "outputs": [],
      "source": [
        "# Memilih fitur\n",
        "fitur = ['temperature', 'humidity', 'TDS', 'WaterTemp']\n",
        "X = df[fitur]"
      ]
    },
    {
      "cell_type": "code",
      "execution_count": null,
      "metadata": {
        "id": "RXzNoaaVg5Jc"
      },
      "outputs": [],
      "source": [
        "X.head(10)"
      ]
    },
    {
      "cell_type": "code",
      "execution_count": null,
      "metadata": {
        "id": "TgH8XohFri04"
      },
      "outputs": [],
      "source": [
        "# Menentukan jumlah cluster\n",
        "n_clusters = 5"
      ]
    },
    {
      "cell_type": "code",
      "execution_count": null,
      "metadata": {
        "id": "tmFNWZ96sFNg"
      },
      "outputs": [],
      "source": [
        "# Melakukan clustering dengan K-Means\n",
        "kmeans = KMeans(n_clusters=n_clusters, random_state=42)\n",
        "df['Kategori'] = kmeans.fit_predict(X)"
      ]
    },
    {
      "cell_type": "code",
      "execution_count": null,
      "metadata": {
        "id": "xXsBrVOVsMfA"
      },
      "outputs": [],
      "source": [
        "# Membagi data\n",
        "X = df[fitur]\n",
        "y = df['Kategori']\n",
        "X_train, X_test, y_train, y_test = train_test_split(X, y, test_size=0.2, random_state=42)"
      ]
    },
    {
      "cell_type": "code",
      "execution_count": null,
      "metadata": {
        "id": "OzYmDNVJBPzx"
      },
      "outputs": [],
      "source": [
        "# Normalisasi Data\n",
        "scaler = MinMaxScaler()\n",
        "X_train_scaled = scaler.fit_transform(X_train)\n",
        "X_test_scaled = scaler.transform(X_test)"
      ]
    },
    {
      "cell_type": "code",
      "execution_count": null,
      "metadata": {
        "id": "eVNMquYAL9OZ"
      },
      "outputs": [],
      "source": [
        "print(\"TensorFlow version:\", tf.__version__)\n",
        "print(\"Scikit-learn version:\", sklearn.__version__)\n",
        "print(\"SciKeras version:\", scikeras.__version__)"
      ]
    },
    {
      "cell_type": "code",
      "execution_count": null,
      "metadata": {
        "id": "mzKIc9Mesnzn"
      },
      "outputs": [],
      "source": [
        "def create_lstm_model(units=60, dropout_rate=0.3, optimizer='adam'):\n",
        "    model = Sequential()\n",
        "    model.add(Dense(units, activation='relu', input_dim=X_train_scaled.shape[1]))  # Layer Dense pertama\n",
        "    model.add(Dense(units, activation='relu'))  # Layer Dense kedua\n",
        "    model.add(Dense(n_clusters, activation='softmax'))  # Layer output\n",
        "    model.compile(loss='sparse_categorical_crossentropy', optimizer=optimizer, metrics=['accuracy'])\n",
        "    return model\n",
        "\n",
        "# Buat model LSTM\n",
        "model_lstm = create_lstm_model(\n",
        "    units=60,\n",
        "    dropout_rate=0.3,  # Dropout tidak digunakan di Dense layer\n",
        "    optimizer='rmsprop'\n",
        ")\n",
        "\n",
        "# Latih model LSTM\n",
        "model_lstm.fit(X_train_scaled, y_train, epochs=10, batch_size=64, verbose=2)\n",
        "\n",
        "# Evaluasi model LSTM pada data uji\n",
        "loss, accuracy = model_lstm.evaluate(X_test_scaled, y_test, verbose=0)\n",
        "print('Loss:', loss)\n",
        "print('Accuracy:', accuracy)"
      ]
    },
    {
      "cell_type": "code",
      "execution_count": null,
      "metadata": {
        "id": "UixLlCzuPVV2"
      },
      "outputs": [],
      "source": [
        "# Evaluasi model LSTM pada data uji\n",
        "loss, accuracy = model_lstm.evaluate(X_test_scaled, y_test, verbose=0)\n",
        "print('Loss:', loss)\n",
        "print('Accuracy:', accuracy)\n",
        "\n",
        "# Menampilkan hasil prediksi pada data latih (LSTM)\n",
        "y_pred_train_lstm = np.argmax(model_lstm.predict(X_train_scaled), axis=1)\n",
        "print(\"Hasil prediksi pada data latih (LSTM):\")\n",
        "print(y_pred_train_lstm)\n",
        "\n",
        "# Menampilkan hasil prediksi pada data uji (LSTM)\n",
        "y_pred_lstm = np.argmax(model_lstm.predict(X_test_scaled), axis=1)\n",
        "print(\"Hasil prediksi pada data uji (LSTM):\")\n",
        "print(y_pred_lstm)\n",
        "\n",
        "# Evaluasi model LSTM pada data uji\n",
        "print(\"Evaluasi Model LSTM:\")\n",
        "print(classification_report(y_test, y_pred_lstm))"
      ]
    },
    {
      "cell_type": "code",
      "execution_count": null,
      "metadata": {
        "id": "6-thBW9vsvfv"
      },
      "outputs": [],
      "source": [
        "def create_ann_model(neurons_1=128, neurons_2=64, activation='relu', optimizer='adam'):\n",
        "    model = Sequential()\n",
        "    model.add(Dense(neurons_1, activation=activation, input_dim=X_train_scaled.shape[1]))\n",
        "    model.add(Dense(neurons_2, activation=activation))\n",
        "    model.add(Dense(n_clusters, activation='softmax'))\n",
        "    model.compile(loss='sparse_categorical_crossentropy', optimizer=optimizer, metrics=['accuracy'])\n",
        "    return model\n",
        "\n",
        "# Buat model ANN dengan parameter yang Anda inginkan\n",
        "model_ann = create_ann_model(\n",
        "    neurons_1=200,  # Contoh nilai neurons_1\n",
        "    neurons_2=100,  # Contoh nilai neurons_2\n",
        "    activation='sigmoid',  # Contoh fungsi aktivasi\n",
        "    optimizer='rmsprop'  # Contoh optimizer\n",
        ")\n",
        "\n",
        "# Latih model ANN\n",
        "model_ann.fit(X_train_scaled, y_train, epochs=10, batch_size=32, verbose=2)  # Contoh nilai epochs dan batch_size\n",
        "\n",
        "# Evaluasi model ANN pada data uji\n",
        "loss, accuracy = model_ann.evaluate(X_test_scaled, y_test, verbose=0)\n",
        "print('Loss:', loss)\n",
        "print('Accuracy:', accuracy)"
      ]
    },
    {
      "cell_type": "code",
      "execution_count": null,
      "metadata": {
        "id": "wy4TIVAzPqlH"
      },
      "outputs": [],
      "source": [
        "# Evaluasi model ANN pada data uji\n",
        "loss, accuracy = model_ann.evaluate(X_test_scaled, y_test, verbose=0)\n",
        "print('Loss:', loss)\n",
        "print('Accuracy:', accuracy)\n",
        "\n",
        "# Menampilkan hasil prediksi pada data latih (ANN)\n",
        "y_pred_train_ann = np.argmax(model_ann.predict(X_train_scaled), axis=1)\n",
        "print(\"Hasil prediksi pada data latih (ANN):\")\n",
        "print(y_pred_train_ann)\n",
        "\n",
        "# Menampilkan hasil prediksi pada data uji (ANN)\n",
        "y_pred_ann = np.argmax(model_ann.predict(X_test_scaled), axis=1)\n",
        "print(\"Hasil prediksi pada data uji (ANN):\")\n",
        "print(y_pred_ann)\n",
        "\n",
        "# Evaluasi model ANN pada data uji\n",
        "print(\"Evaluasi Model ANN:\")\n",
        "print(classification_report(y_test, y_pred_ann))"
      ]
    },
    {
      "cell_type": "code",
      "execution_count": null,
      "metadata": {
        "id": "1DNAPxuok_nk"
      },
      "outputs": [],
      "source": [
        "# Confusion matrix untuk model LSTM\n",
        "cm_lstm = confusion_matrix(y_test, y_pred_lstm)\n",
        "\n",
        "# Confusion matrix untuk model ANN\n",
        "cm_ann = confusion_matrix(y_test, y_pred_ann)\n",
        "\n",
        "# Visualisasi confusion matrix LSTM\n",
        "plt.figure(figsize=(8, 6))\n",
        "sns.heatmap(cm_lstm, annot=True, fmt='d', cmap='Blues')\n",
        "plt.title('Confusion Matrix - LSTM')\n",
        "plt.xlabel('Prediksi')\n",
        "plt.ylabel('Aktual')\n",
        "plt.show()\n",
        "\n",
        "# Visualisasi confusion matrix ANN\n",
        "plt.figure(figsize=(8, 6))\n",
        "sns.heatmap(cm_ann, annot=True, fmt='d', cmap='Blues')\n",
        "plt.title('Confusion Matrix - ANN')\n",
        "plt.xlabel('Prediksi')\n",
        "plt.ylabel('Aktual')\n",
        "plt.show()"
      ]
    },
    {
      "cell_type": "code",
      "execution_count": null,
      "metadata": {
        "id": "BEf1h75YoCcX"
      },
      "outputs": [],
      "source": [
        "import tensorflow as tf\n",
        "model_ann.save('best_model_ann.h5')\n",
        "model = tf.keras.models.load_model('best_model_ann.h5')\n",
        "converter = tf.lite.TFLiteConverter.from_keras_model(model)\n",
        "\n",
        "tfliteModel = converter.convert()\n",
        "\n",
        "with open('best_model_ann.tflite', 'wb') as f:\n",
        "    f.write(tfliteModel)"
      ]
    }
  ],
  "metadata": {
    "colab": {
      "provenance": [],
      "authorship_tag": "ABX9TyORWLyfm7ogwwqiO1GSANwh",
      "include_colab_link": true
    },
    "kernelspec": {
      "display_name": "Python 3",
      "name": "python3"
    },
    "language_info": {
      "name": "python"
    }
  },
  "nbformat": 4,
  "nbformat_minor": 0
}